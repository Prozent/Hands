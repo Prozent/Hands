{
 "cells": [
  {
   "cell_type": "code",
   "execution_count": 1,
   "metadata": {},
   "outputs": [
    {
     "name": "stderr",
     "output_type": "stream",
     "text": [
      "Using TensorFlow backend.\n"
     ]
    }
   ],
   "source": [
    "from keras.preprocessing.image import ImageDataGenerator #обработка изображения\n",
    "from keras.models import Sequential #Входной массив\n",
    "from keras.layers import Conv2D, MaxPooling2D #структура \n",
    "from keras.layers import Activation, Dropout, Flatten, Dense #функция активации, значение ф.а, выходной слой\n",
    "\n",
    "import matplotlib.pyplot as plt\n",
    "%matplotlib inline\n",
    "from keras.utils import np_utils\n",
    "from keras.models import model_from_json\n",
    "from keras.preprocessing import image\n",
    "import numpy as np\n",
    "\n",
    "#данные для обучения\n",
    "train_dir = 'train'\n",
    "#данные для проверки\n",
    "val_dir = 'validation'\n",
    "#данные для тестирования\n",
    "test_dir = 'test'\n",
    "\n",
    "import os\n"
   ]
  },
  {
   "cell_type": "code",
   "execution_count": 2,
   "metadata": {},
   "outputs": [
    {
     "data": {
      "text/plain": [
       "'/home/kikrill/projects/hands'"
      ]
     },
     "execution_count": 2,
     "metadata": {},
     "output_type": "execute_result"
    }
   ],
   "source": [
    "os.getcwd()\n",
    "#os.chdir('F:\\YandexDisk\\MyStudents\\raspoznavanie')"
   ]
  },
  {
   "cell_type": "code",
   "execution_count": 3,
   "metadata": {},
   "outputs": [],
   "source": [
    "#размеры изображения для обучения\n",
    "img_width, img_height = 128, 128\n",
    "#Размерность  для входных данных в нейронную сеть\n",
    "input_shape = (img_width, img_height, 3)"
   ]
  },
  {
   "cell_type": "code",
   "execution_count": 4,
   "metadata": {},
   "outputs": [
    {
     "name": "stdout",
     "output_type": "stream",
     "text": [
      "WARNING:tensorflow:From /home/kikrill/keras_tf/kerastf/lib/python3.6/site-packages/keras/backend/tensorflow_backend.py:4070: The name tf.nn.max_pool is deprecated. Please use tf.nn.max_pool2d instead.\n",
      "\n"
     ]
    }
   ],
   "source": [
    "\n",
    "#входной слой\n",
    "model = Sequential()\n",
    "model.add(Conv2D(32, (3, 3), input_shape=input_shape))\n",
    "model.add(Activation('relu'))\n",
    "model.add(MaxPooling2D(pool_size=(2, 2)))\n",
    "#первый скрытый слой\n",
    "model.add(Conv2D(32, (3, 3)))\n",
    "model.add(Activation('relu'))\n",
    "model.add(MaxPooling2D(pool_size=(2, 2)))\n",
    "#второй скрытый слой\n",
    "model.add(Conv2D(64, (3, 3)))\n",
    "model.add(Activation('relu'))\n",
    "model.add(MaxPooling2D(pool_size=(2, 2)))\n",
    "\n",
    "model.add(Flatten())\n",
    "model.add(Dense(64))\n",
    "model.add(Activation('relu'))\n",
    "model.add(Dropout(0.5))\n",
    "model.add(Dense(5))\n",
    "model.add(Activation('sigmoid'))\n"
   ]
  },
  {
   "cell_type": "code",
   "execution_count": 5,
   "metadata": {},
   "outputs": [],
   "source": [
    "\n",
    "#компилирование модели методом обратное распространение \n",
    "model.compile(loss='categorical_crossentropy',\n",
    "              optimizer='adam',\n",
    "              metrics=['accuracy'])\n"
   ]
  },
  {
   "cell_type": "code",
   "execution_count": 6,
   "metadata": {},
   "outputs": [],
   "source": [
    "#обрабатка изображения (от 0 до 1)\n",
    "datagen = ImageDataGenerator(rescale=1. / 255)\n"
   ]
  },
  {
   "cell_type": "code",
   "execution_count": 7,
   "metadata": {},
   "outputs": [
    {
     "name": "stdout",
     "output_type": "stream",
     "text": [
      "Found 7375 images belonging to 5 classes.\n",
      "Found 1499 images belonging to 5 classes.\n",
      "Found 125 images belonging to 5 classes.\n"
     ]
    }
   ],
   "source": [
    "\n",
    "#размер выборки\n",
    "batch_size = 300\n",
    "\n",
    "#вызов функции для чтения изображения\n",
    "train_generator = datagen.flow_from_directory(\n",
    "    train_dir,\n",
    "    target_size=(img_width, img_height),\n",
    "    batch_size=batch_size,\n",
    "    class_mode='categorical')\n",
    "\n",
    "val_generator = datagen.flow_from_directory(\n",
    "    val_dir,\n",
    "    target_size=(img_width, img_height),\n",
    "    batch_size=batch_size,\n",
    "    class_mode='categorical')\n",
    "\n",
    "test_generator = datagen.flow_from_directory(\n",
    "    test_dir,\n",
    "    target_size=(img_width, img_height),\n",
    "    batch_size=batch_size,\n",
    "    class_mode='categorical')\n"
   ]
  },
  {
   "cell_type": "code",
   "execution_count": 10,
   "metadata": {},
   "outputs": [],
   "source": [
    "# Удобнее тут, чтобы туда не лазить\n",
    "\n",
    "#количество эпох\n",
    "epochs = 1\n",
    "\n",
    "#количество изображений для обучения\n",
    "nb_train_samples = 7375\n",
    "#количество изображений для проверки\n",
    "nb_validation_samples = 1499\n",
    "#количество изображений для тестирования\n",
    "nb_test_samples = 125"
   ]
  },
  {
   "cell_type": "code",
   "execution_count": null,
   "metadata": {
    "scrolled": true
   },
   "outputs": [
    {
     "name": "stdout",
     "output_type": "stream",
     "text": [
      "WARNING:tensorflow:From /home/kikrill/keras_tf/kerastf/lib/python3.6/site-packages/tensorflow/python/ops/math_grad.py:1250: add_dispatch_support.<locals>.wrapper (from tensorflow.python.ops.array_ops) is deprecated and will be removed in a future version.\n",
      "Instructions for updating:\n",
      "Use tf.where in 2.0, which has the same broadcast rule as np.where\n",
      "WARNING:tensorflow:From /home/kikrill/keras_tf/kerastf/lib/python3.6/site-packages/keras/backend/tensorflow_backend.py:422: The name tf.global_variables is deprecated. Please use tf.compat.v1.global_variables instead.\n",
      "\n",
      "Epoch 1/1\n",
      " 2/24 [=>............................] - ETA: 34:57 - loss: 1.6302 - accuracy: 0.1967"
     ]
    },
    {
     "name": "stderr",
     "output_type": "stream",
     "text": [
      "/home/kikrill/keras_tf/kerastf/lib/python3.6/site-packages/keras/utils/data_utils.py:616: UserWarning: The input 13 could not be retrieved. It could be because a worker has died.\n",
      "  UserWarning)\n"
     ]
    },
    {
     "name": "stdout",
     "output_type": "stream",
     "text": [
      "\b\b\b\b\b\b\b\b\b\b\b\b\b\b\b\b\b\b\b\b\b\b\b\b\b\b\b\b\b\b\b\b\b\b\b\b\b\b\b\b\b\b\b\b\b\b\b\b\b\b\b\b\b\b\b\b\b\b\b\b\b\b\b\b\b\b\b\b\b\b\b\b\b\b\b\b\b\b\b\b\b\b\b\b\b\r",
      " 3/24 [==>...........................] - ETA: 33:09 - loss: 1.6012 - accuracy: 0.2300"
     ]
    }
   ],
   "source": [
    "#метод проводящий обучений\n",
    "history = model.fit_generator(\n",
    "    train_generator,\n",
    "    steps_per_epoch=nb_train_samples // batch_size,\n",
    "    epochs=epochs,\n",
    "    validation_data=val_generator,\n",
    "    validation_steps=nb_validation_samples // batch_size)\n"
   ]
  },
  {
   "cell_type": "code",
   "execution_count": null,
   "metadata": {},
   "outputs": [],
   "source": [
    "accuracy = history.history['acc']\n",
    "#val_accuracy = history.history['val_acc']\n",
    "loss = history.history['loss']\n",
    "#val_loss = history.history['val_loss']\n",
    "epochs = range(len(accuracy))\n",
    "plt.plot(epochs, accuracy, label='Training accuracy')\n",
    "#plt.plot(epochs, val_accuracy, 'b', label='Validation accuracy')\n",
    "plt.title('Training and validation accuracy')\n",
    "plt.legend()\n",
    "plt.figure()\n",
    "plt.plot(epochs, loss, label='Training loss')\n",
    "#plt.plot(epochs, val_loss, 'b', label='Validation loss')\n",
    "plt.title('Training and validation loss')\n",
    "plt.legend()\n",
    "plt.show()"
   ]
  },
  {
   "cell_type": "code",
   "execution_count": null,
   "metadata": {},
   "outputs": [],
   "source": [
    "#вычисление результата тестирования\n",
    "#scores = model.evaluate_generator(test_generator, nb_test_samples // batch_size)\n",
    "#print(\"Результат на тестовых данных: %.2f%%\" % (scores[1]*100))\n",
    "\n",
    "print(\"Сохраняем сеть\")\n",
    "# Сохраняем сеть для последующего использования\n",
    "# Генерируем описание модели в формате json\n",
    "model_json = model.to_json()\n",
    "json_file = open(\"model_N.json\", \"wt\")\n",
    "# Записываем архитектуру сети в файл\n",
    "json_file.write(model_json)\n",
    "json_file.close()\n",
    "# Записываем данные о весах в файл\n",
    "model.save_weights(\"model_N_W.h5\")\n",
    "print(\"Сохранение сети завершено\")"
   ]
  },
  {
   "cell_type": "code",
   "execution_count": 21,
   "metadata": {},
   "outputs": [
    {
     "data": {
      "text/plain": [
       "'C:\\\\Users\\\\Кирько\\\\Documents\\\\LL'"
      ]
     },
     "execution_count": 21,
     "metadata": {},
     "output_type": "execute_result"
    }
   ],
   "source": [
    "import os\n",
    "os.getcwd()"
   ]
  },
  {
   "cell_type": "markdown",
   "metadata": {},
   "source": [
    "## Done"
   ]
  },
  {
   "cell_type": "code",
   "execution_count": 1,
   "metadata": {},
   "outputs": [
    {
     "name": "stderr",
     "output_type": "stream",
     "text": [
      "Using TensorFlow backend.\n"
     ]
    },
    {
     "name": "stdout",
     "output_type": "stream",
     "text": [
      "WARNING:tensorflow:From D:\\piton\\envs\\New1\\lib\\site-packages\\tensorflow\\python\\framework\\op_def_library.py:263: colocate_with (from tensorflow.python.framework.ops) is deprecated and will be removed in a future version.\n",
      "Instructions for updating:\n",
      "Colocations handled automatically by placer.\n",
      "WARNING:tensorflow:From D:\\piton\\envs\\New1\\lib\\site-packages\\keras\\backend\\tensorflow_backend.py:3445: calling dropout (from tensorflow.python.ops.nn_ops) with keep_prob is deprecated and will be removed in a future version.\n",
      "Instructions for updating:\n",
      "Please use `rate` instead of `keep_prob`. Rate should be set to `rate = 1 - keep_prob`.\n"
     ]
    }
   ],
   "source": [
    "import numpy as np\n",
    "import pandas as pd\n",
    "from keras.utils import np_utils\n",
    "from keras.models import model_from_json\n",
    "from keras.preprocessing import image\n",
    "import matplotlib.pyplot as plt\n",
    "import keras\n",
    "#загружаем сохраенные модели и весы\n",
    "json_file = open(\"model_N.json\", \"rt\")\n",
    "loaded_model_json = json_file.read()\n",
    "json_file.close()\n",
    "loaded_model = model_from_json(loaded_model_json, custom_objects={'GlorotUniform': keras.initializers.glorot_uniform(seed=None)})\n",
    "loaded_model.load_weights(\"model_N_W.h5\")\n",
    "loaded_model.compile(loss='categorical_crossentropy', optimizer='adam', metrics=['accuracy'])"
   ]
  },
  {
   "cell_type": "code",
   "execution_count": 17,
   "metadata": {},
   "outputs": [
    {
     "name": "stdout",
     "output_type": "stream",
     "text": [
      "Введите название изображения для проверки: 8.jpg\n"
     ]
    },
    {
     "data": {
      "image/png": "[encoded data removed]",
      "text/plain": [
       "<Figure size 432x288 with 1 Axes>"
      ]
     },
     "metadata": {
      "needs_background": "light"
     },
     "output_type": "display_data"
    },
    {
     "name": "stdout",
     "output_type": "stream",
     "text": [
      "[[[51. 38. 32.]\n",
      "  [51. 38. 32.]\n",
      "  [53. 40. 34.]\n",
      "  ...\n",
      "  [16. 12. 13.]\n",
      "  [11.  9. 10.]\n",
      "  [ 9.  7.  8.]]\n",
      "\n",
      " [[43. 34. 29.]\n",
      "  [51. 40. 34.]\n",
      "  [55. 41. 38.]\n",
      "  ...\n",
      "  [12.  8.  9.]\n",
      "  [11.  9. 10.]\n",
      "  [15. 13. 14.]]\n",
      "\n",
      " [[52. 34. 32.]\n",
      "  [46. 37. 30.]\n",
      "  [55. 47. 36.]\n",
      "  ...\n",
      "  [12. 10. 11.]\n",
      "  [11.  9. 10.]\n",
      "  [10.  8.  9.]]\n",
      "\n",
      " ...\n",
      "\n",
      " [[38. 34. 35.]\n",
      "  [36. 32. 33.]\n",
      "  [31. 25. 29.]\n",
      "  ...\n",
      "  [34. 30. 29.]\n",
      "  [35. 31. 30.]\n",
      "  [18. 18. 16.]]\n",
      "\n",
      " [[21. 19. 20.]\n",
      "  [34. 34. 34.]\n",
      "  [19. 19. 21.]\n",
      "  ...\n",
      "  [29. 28. 26.]\n",
      "  [31. 30. 28.]\n",
      "  [33. 31. 34.]]\n",
      "\n",
      " [[20. 16. 15.]\n",
      "  [40. 38. 41.]\n",
      "  [14. 14. 14.]\n",
      "  ...\n",
      "  [31. 31. 29.]\n",
      "  [33. 32. 30.]\n",
      "  [23. 22. 18.]]]\n",
      "[[[[0.2        0.14901961 0.1254902 ]\n",
      "   [0.2        0.14901961 0.1254902 ]\n",
      "   [0.20784314 0.15686275 0.13333334]\n",
      "   ...\n",
      "   [0.0627451  0.04705882 0.05098039]\n",
      "   [0.04313726 0.03529412 0.03921569]\n",
      "   [0.03529412 0.02745098 0.03137255]]\n",
      "\n",
      "  [[0.16862746 0.13333334 0.11372549]\n",
      "   [0.2        0.15686275 0.13333334]\n",
      "   [0.21568628 0.16078432 0.14901961]\n",
      "   ...\n",
      "   [0.04705882 0.03137255 0.03529412]\n",
      "   [0.04313726 0.03529412 0.03921569]\n",
      "   [0.05882353 0.05098039 0.05490196]]\n",
      "\n",
      "  [[0.20392157 0.13333334 0.1254902 ]\n",
      "   [0.18039216 0.14509805 0.11764706]\n",
      "   [0.21568628 0.18431373 0.14117648]\n",
      "   ...\n",
      "   [0.04705882 0.03921569 0.04313726]\n",
      "   [0.04313726 0.03529412 0.03921569]\n",
      "   [0.03921569 0.03137255 0.03529412]]\n",
      "\n",
      "  ...\n",
      "\n",
      "  [[0.14901961 0.13333334 0.13725491]\n",
      "   [0.14117648 0.1254902  0.12941177]\n",
      "   [0.12156863 0.09803922 0.11372549]\n",
      "   ...\n",
      "   [0.13333334 0.11764706 0.11372549]\n",
      "   [0.13725491 0.12156863 0.11764706]\n",
      "   [0.07058824 0.07058824 0.0627451 ]]\n",
      "\n",
      "  [[0.08235294 0.07450981 0.07843138]\n",
      "   [0.13333334 0.13333334 0.13333334]\n",
      "   [0.07450981 0.07450981 0.08235294]\n",
      "   ...\n",
      "   [0.11372549 0.10980392 0.10196079]\n",
      "   [0.12156863 0.11764706 0.10980392]\n",
      "   [0.12941177 0.12156863 0.13333334]]\n",
      "\n",
      "  [[0.07843138 0.0627451  0.05882353]\n",
      "   [0.15686275 0.14901961 0.16078432]\n",
      "   [0.05490196 0.05490196 0.05490196]\n",
      "   ...\n",
      "   [0.12156863 0.12156863 0.11372549]\n",
      "   [0.12941177 0.1254902  0.11764706]\n",
      "   [0.09019608 0.08627451 0.07058824]]]]\n"
     ]
    }
   ],
   "source": [
    "classes = ['1', '2', '3', '4', '5']\n",
    "#загрузка тестовго изобрадения\n",
    "img_path = input('Введите название изображения для проверки: ')\n",
    "#img_path = '6.png'\n",
    "img = image.load_img(img_path, target_size=(128, 128))\n",
    "#отображение изображение\n",
    "plt.imshow(img)\n",
    "plt.show()\n",
    "#обработка изобрадения\n",
    "x = image.img_to_array(img)\n",
    "print(x)\n",
    "x /= 255\n",
    "x = np.expand_dims(x, axis=0)\n",
    "print(x)"
   ]
  },
  {
   "cell_type": "code",
   "execution_count": 19,
   "metadata": {},
   "outputs": [
    {
     "data": {
      "text/plain": [
       "(1, 128, 128, 3)"
      ]
     },
     "execution_count": 19,
     "metadata": {},
     "output_type": "execute_result"
    }
   ],
   "source": [
    "x.shape"
   ]
  },
  {
   "cell_type": "code",
   "execution_count": 20,
   "metadata": {},
   "outputs": [
    {
     "name": "stdout",
     "output_type": "stream",
     "text": [
      "0\n",
      "[[4.7043118e-01 3.5881996e-05 4.0531158e-06 2.9802322e-08 7.9879962e-04]]\n",
      "1\n",
      "Press ENTER to exit\n"
     ]
    },
    {
     "data": {
      "text/plain": [
       "''"
      ]
     },
     "execution_count": 20,
     "metadata": {},
     "output_type": "execute_result"
    }
   ],
   "source": [
    "prediction= loaded_model.predict(x)\n",
    "mx = max(prediction[0])\n",
    "num = int([i for i,x in enumerate(prediction[0]) if x==mx][0])\n",
    "#num = int(prediction[0].index(mx))      #[i for i,x in enumerate(prediction[0]) if x==mx][0])\n",
    "print(num)\n",
    "print(prediction)\n",
    "#вывод класса\n",
    "print(classes[num])\n",
    "input('Press ENTER to exit')"
   ]
  },
  {
   "cell_type": "code",
   "execution_count": null,
   "metadata": {},
   "outputs": [],
   "source": [
    "import cv2\n",
    "import numpy as np\n",
    "from PIL import Image\n",
    "\n",
    "import os\n",
    "os.getcwd()\n",
    "\n",
    "im1 = cv2.imread('1.jpg')\n",
    "im2 = cv2.resize(im1, (128,128))\n",
    "resize = im2\n",
    "cv2.imshow('1.jpg',im2)\n",
    "if cv2.waitKey():\n",
    "    cv2.destroyAllWindows()\n",
    "    \n",
    "gray = cv2.cvtColor(im2, cv2.COLOR_BGR2GRAY)\n",
    "\n",
    "blurred_im = cv2.blur(gray, (5,5))\n",
    "blurred_im1 = cv2.blur(blurred_im, (5,5))\n",
    "#blurred_im2 = cv2.blur(blurred_im1, (10,10))\n",
    "\n",
    "edged = cv2.Canny(blurred_im1,30,200)\n",
    "cv2.imshow('Canny edges', edged)\n",
    "if cv2.waitKey():\n",
    "    cv2.destroyAllWindows()\n",
    "_, contours, hierarchy = cv2.findContours( edged, cv2.RETR_EXTERNAL, cv2.CHAIN_APPROX_NONE)\n",
    "\n",
    "    # отображаем контуры поверх изображения\n",
    "max1 = cv2.contourArea(contours[0])\n",
    "k = 0\n",
    "max2 = 0\n",
    "for i in contours:\n",
    "    \n",
    "    if cv2.contourArea(i) > max1:\n",
    "        max1 = cv2.contourArea(i)\n",
    "        max2 = k\n",
    "    k += 1\n",
    "#im2 = cv2.imread()\n",
    "print(contours)"
   ]
  },
  {
   "cell_type": "code",
   "execution_count": null,
   "metadata": {},
   "outputs": [],
   "source": [
    "import numpy as np\n",
    "import cv2 as cv\n",
    "#cv.drawContours( im2, contours, -1, (255,0,0), 3, cv2.LINE_AA, hierarchy, 1 )"
   ]
  },
  {
   "cell_type": "code",
   "execution_count": null,
   "metadata": {},
   "outputs": [],
   "source": []
  },
  {
   "cell_type": "code",
   "execution_count": null,
   "metadata": {},
   "outputs": [],
   "source": []
  },
  {
   "cell_type": "code",
   "execution_count": null,
   "metadata": {},
   "outputs": [],
   "source": []
  },
  {
   "cell_type": "code",
   "execution_count": null,
   "metadata": {},
   "outputs": [],
   "source": [
    "import cv2\n",
    "cv2.drawContours (im2, contours, -1, (0,0,0), 1)\n",
    "cv2.imshow('image',im2)\n",
    "cv2.waitKey(0)\n",
    "cv2.destroyAllWindows()"
   ]
  },
  {
   "cell_type": "code",
   "execution_count": null,
   "metadata": {},
   "outputs": [],
   "source": [
    "cv2.imshow('Canny edges', edged)\n",
    "if cv2.waitKey():\n",
    "    cv2.destroyAllWindows()\n",
    "_, contours, hierarchy = cv2.findContours( edged, cv2.RETR_EXTERNAL, cv2.CHAIN_APPROX_NONE)"
   ]
  },
  {
   "cell_type": "code",
   "execution_count": null,
   "metadata": {},
   "outputs": [],
   "source": [
    "cv2.drawContours( edged, contours, -1, (255,0,0), 3, cv2.LINE_AA, hierarchy, 1 )"
   ]
  },
  {
   "cell_type": "code",
   "execution_count": null,
   "metadata": {},
   "outputs": [],
   "source": []
  },
  {
   "cell_type": "code",
   "execution_count": null,
   "metadata": {},
   "outputs": [],
   "source": [
    "from PIL import Image, ImageChops\n",
    "ImageChops.multiply(im2, edged)"
   ]
  },
  {
   "cell_type": "code",
   "execution_count": null,
   "metadata": {},
   "outputs": [],
   "source": [
    "import numpy as np\n",
    "import scipy.misc as mpl\n",
    "mpl.imshow('fsdfsdf',im2)\n",
    "mpl.imsave('01background.bmp', im2)\n",
    "mpl.imshow('adasd',edged)\n",
    "mpl.imsave('02testgray.bmp',edged)"
   ]
  },
  {
   "cell_type": "code",
   "execution_count": null,
   "metadata": {},
   "outputs": [],
   "source": [
    "cv2.imwrite(\"02testgray.png\", gray)\n",
    "cv2.imwrite(\"01background.png\", edged)\n",
    "imgA = Image.open('01background.png')\n",
    "imgA.load()\n",
    "imgB = Image.open('02testgray.png')\n",
    "imgB.load()\n"
   ]
  },
  {
   "cell_type": "code",
   "execution_count": null,
   "metadata": {},
   "outputs": [],
   "source": [
    "import numpy as np\n",
    "import scipy.misc as mpl\n",
    "\n",
    "a = mpl.imread('01background.png')\n",
    "b = mpl.imread('02testgray.png')\n",
    "\n",
    "c = a/((b.astype('float')+1)/256)\n",
    "d = c*(c < 255)+255*np.ones(np.shape(c))*(c 1\n",
    "e = d.astype('uint8')\n",
    "\n",
    "mpl.imshow(e)\n",
    "mpl.imsave('output.png', e)"
   ]
  },
  {
   "cell_type": "code",
   "execution_count": null,
   "metadata": {},
   "outputs": [],
   "source": []
  }
 ],
 "metadata": {
  "kernelspec": {
   "display_name": "Python 3",
   "language": "python",
   "name": "python3"
  },
  "language_info": {
   "codemirror_mode": {
    "name": "ipython",
    "version": 3
   },
   "file_extension": ".py",
   "mimetype": "text/x-python",
   "name": "python",
   "nbconvert_exporter": "python",
   "pygments_lexer": "ipython3",
   "version": "3.6.8"
  }
 },
 "nbformat": 4,
 "nbformat_minor": 2
}
